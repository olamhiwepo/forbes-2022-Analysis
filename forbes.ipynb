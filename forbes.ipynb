{
 "cells": [
  {
   "cell_type": "code",
   "execution_count": 54,
   "id": "d97d5134",
   "metadata": {},
   "outputs": [],
   "source": [
    "import pandas as pd\n",
    "import matplotlib.pyplot as plt\n",
    "import seaborn as sns"
   ]
  },
  {
   "cell_type": "code",
   "execution_count": 55,
   "id": "216ae673",
   "metadata": {},
   "outputs": [],
   "source": [
    "#I imported the raw file\n",
    "forbes = pd.read_csv('forbes_2022_billionaires.csv.zip')"
   ]
  },
  {
   "cell_type": "markdown",
   "id": "a3bfb3ec",
   "metadata": {},
   "source": [
    "Data profiling"
   ]
  },
  {
   "cell_type": "code",
   "execution_count": 56,
   "id": "46d1e718",
   "metadata": {},
   "outputs": [
    {
     "data": {
      "text/html": [
       "<div>\n",
       "<style scoped>\n",
       "    .dataframe tbody tr th:only-of-type {\n",
       "        vertical-align: middle;\n",
       "    }\n",
       "\n",
       "    .dataframe tbody tr th {\n",
       "        vertical-align: top;\n",
       "    }\n",
       "\n",
       "    .dataframe thead th {\n",
       "        text-align: right;\n",
       "    }\n",
       "</style>\n",
       "<table border=\"1\" class=\"dataframe\">\n",
       "  <thead>\n",
       "    <tr style=\"text-align: right;\">\n",
       "      <th></th>\n",
       "      <th>rank</th>\n",
       "      <th>personName</th>\n",
       "      <th>age</th>\n",
       "      <th>finalWorth</th>\n",
       "      <th>year</th>\n",
       "      <th>month</th>\n",
       "      <th>category</th>\n",
       "      <th>source</th>\n",
       "      <th>country</th>\n",
       "      <th>state</th>\n",
       "      <th>...</th>\n",
       "      <th>organization</th>\n",
       "      <th>selfMade</th>\n",
       "      <th>gender</th>\n",
       "      <th>birthDate</th>\n",
       "      <th>title</th>\n",
       "      <th>philanthropyScore</th>\n",
       "      <th>residenceMsa</th>\n",
       "      <th>numberOfSiblings</th>\n",
       "      <th>bio</th>\n",
       "      <th>about</th>\n",
       "    </tr>\n",
       "  </thead>\n",
       "  <tbody>\n",
       "    <tr>\n",
       "      <th>0</th>\n",
       "      <td>1</td>\n",
       "      <td>Elon Musk</td>\n",
       "      <td>50.0</td>\n",
       "      <td>219000.0</td>\n",
       "      <td>2022</td>\n",
       "      <td>4</td>\n",
       "      <td>Automotive</td>\n",
       "      <td>Tesla, SpaceX</td>\n",
       "      <td>United States</td>\n",
       "      <td>Texas</td>\n",
       "      <td>...</td>\n",
       "      <td>Tesla</td>\n",
       "      <td>True</td>\n",
       "      <td>M</td>\n",
       "      <td>1971-06-28</td>\n",
       "      <td>CEO</td>\n",
       "      <td>1.0</td>\n",
       "      <td>NaN</td>\n",
       "      <td>NaN</td>\n",
       "      <td>Elon Musk is working to revolutionize transpor...</td>\n",
       "      <td>Musk was accepted to a graduate program at Sta...</td>\n",
       "    </tr>\n",
       "    <tr>\n",
       "      <th>1</th>\n",
       "      <td>2</td>\n",
       "      <td>Jeff Bezos</td>\n",
       "      <td>58.0</td>\n",
       "      <td>171000.0</td>\n",
       "      <td>2022</td>\n",
       "      <td>4</td>\n",
       "      <td>Technology</td>\n",
       "      <td>Amazon</td>\n",
       "      <td>United States</td>\n",
       "      <td>Washington</td>\n",
       "      <td>...</td>\n",
       "      <td>Amazon</td>\n",
       "      <td>True</td>\n",
       "      <td>M</td>\n",
       "      <td>1964-01-12</td>\n",
       "      <td>Entrepreneur</td>\n",
       "      <td>1.0</td>\n",
       "      <td>Seattle-Tacoma-Bellevue, WA</td>\n",
       "      <td>NaN</td>\n",
       "      <td>Jeff Bezos founded e-commerce giant Amazon in ...</td>\n",
       "      <td>Growing up, Jeff Bezos worked summers on his g...</td>\n",
       "    </tr>\n",
       "    <tr>\n",
       "      <th>2</th>\n",
       "      <td>3</td>\n",
       "      <td>Bernard Arnault &amp; family</td>\n",
       "      <td>73.0</td>\n",
       "      <td>158000.0</td>\n",
       "      <td>2022</td>\n",
       "      <td>4</td>\n",
       "      <td>Fashion &amp; Retail</td>\n",
       "      <td>LVMH</td>\n",
       "      <td>France</td>\n",
       "      <td>NaN</td>\n",
       "      <td>...</td>\n",
       "      <td>LVMH Moët Hennessy Louis Vuitton</td>\n",
       "      <td>False</td>\n",
       "      <td>M</td>\n",
       "      <td>1949-03-05</td>\n",
       "      <td>Chairman and CEO</td>\n",
       "      <td>NaN</td>\n",
       "      <td>NaN</td>\n",
       "      <td>NaN</td>\n",
       "      <td>Bernard Arnault oversees the LVMH empire of so...</td>\n",
       "      <td>Arnault apparently wooed his wife, Helene Merc...</td>\n",
       "    </tr>\n",
       "    <tr>\n",
       "      <th>3</th>\n",
       "      <td>4</td>\n",
       "      <td>Bill Gates</td>\n",
       "      <td>66.0</td>\n",
       "      <td>129000.0</td>\n",
       "      <td>2022</td>\n",
       "      <td>4</td>\n",
       "      <td>Technology</td>\n",
       "      <td>Microsoft</td>\n",
       "      <td>United States</td>\n",
       "      <td>Washington</td>\n",
       "      <td>...</td>\n",
       "      <td>Bill &amp; Melinda Gates Foundation</td>\n",
       "      <td>True</td>\n",
       "      <td>M</td>\n",
       "      <td>1955-10-28</td>\n",
       "      <td>Cofounder</td>\n",
       "      <td>4.0</td>\n",
       "      <td>Seattle-Tacoma-Bellevue, WA</td>\n",
       "      <td>NaN</td>\n",
       "      <td>Bill Gates turned his fortune from software fi...</td>\n",
       "      <td>When Gates was a kid, he spent so much time re...</td>\n",
       "    </tr>\n",
       "    <tr>\n",
       "      <th>4</th>\n",
       "      <td>5</td>\n",
       "      <td>Warren Buffett</td>\n",
       "      <td>91.0</td>\n",
       "      <td>118000.0</td>\n",
       "      <td>2022</td>\n",
       "      <td>4</td>\n",
       "      <td>Finance &amp; Investments</td>\n",
       "      <td>Berkshire Hathaway</td>\n",
       "      <td>United States</td>\n",
       "      <td>Nebraska</td>\n",
       "      <td>...</td>\n",
       "      <td>Berkshire Hathaway</td>\n",
       "      <td>True</td>\n",
       "      <td>M</td>\n",
       "      <td>1930-08-30</td>\n",
       "      <td>CEO</td>\n",
       "      <td>5.0</td>\n",
       "      <td>Omaha, NE</td>\n",
       "      <td>NaN</td>\n",
       "      <td>Known as the \"Oracle of Omaha,\" Warren Buffett...</td>\n",
       "      <td>Buffett still lives in the same Omaha, Nebrask...</td>\n",
       "    </tr>\n",
       "  </tbody>\n",
       "</table>\n",
       "<p>5 rows × 22 columns</p>\n",
       "</div>"
      ],
      "text/plain": [
       "   rank                personName   age  finalWorth  year  month  \\\n",
       "0     1                 Elon Musk  50.0    219000.0  2022      4   \n",
       "1     2                Jeff Bezos  58.0    171000.0  2022      4   \n",
       "2     3  Bernard Arnault & family  73.0    158000.0  2022      4   \n",
       "3     4                Bill Gates  66.0    129000.0  2022      4   \n",
       "4     5            Warren Buffett  91.0    118000.0  2022      4   \n",
       "\n",
       "                category              source        country       state  ...  \\\n",
       "0             Automotive       Tesla, SpaceX  United States       Texas  ...   \n",
       "1             Technology              Amazon  United States  Washington  ...   \n",
       "2       Fashion & Retail                LVMH         France         NaN  ...   \n",
       "3             Technology           Microsoft  United States  Washington  ...   \n",
       "4  Finance & Investments  Berkshire Hathaway  United States    Nebraska  ...   \n",
       "\n",
       "                       organization selfMade gender   birthDate  \\\n",
       "0                             Tesla     True      M  1971-06-28   \n",
       "1                            Amazon     True      M  1964-01-12   \n",
       "2  LVMH Moët Hennessy Louis Vuitton    False      M  1949-03-05   \n",
       "3   Bill & Melinda Gates Foundation     True      M  1955-10-28   \n",
       "4                Berkshire Hathaway     True      M  1930-08-30   \n",
       "\n",
       "              title philanthropyScore                 residenceMsa  \\\n",
       "0               CEO               1.0                          NaN   \n",
       "1      Entrepreneur               1.0  Seattle-Tacoma-Bellevue, WA   \n",
       "2  Chairman and CEO               NaN                          NaN   \n",
       "3         Cofounder               4.0  Seattle-Tacoma-Bellevue, WA   \n",
       "4               CEO               5.0                    Omaha, NE   \n",
       "\n",
       "   numberOfSiblings                                                bio  \\\n",
       "0               NaN  Elon Musk is working to revolutionize transpor...   \n",
       "1               NaN  Jeff Bezos founded e-commerce giant Amazon in ...   \n",
       "2               NaN  Bernard Arnault oversees the LVMH empire of so...   \n",
       "3               NaN  Bill Gates turned his fortune from software fi...   \n",
       "4               NaN  Known as the \"Oracle of Omaha,\" Warren Buffett...   \n",
       "\n",
       "                                               about  \n",
       "0  Musk was accepted to a graduate program at Sta...  \n",
       "1  Growing up, Jeff Bezos worked summers on his g...  \n",
       "2  Arnault apparently wooed his wife, Helene Merc...  \n",
       "3  When Gates was a kid, he spent so much time re...  \n",
       "4  Buffett still lives in the same Omaha, Nebrask...  \n",
       "\n",
       "[5 rows x 22 columns]"
      ]
     },
     "execution_count": 56,
     "metadata": {},
     "output_type": "execute_result"
    }
   ],
   "source": [
    "forbes.head()"
   ]
  },
  {
   "cell_type": "code",
   "execution_count": 57,
   "id": "017422bf",
   "metadata": {},
   "outputs": [
    {
     "data": {
      "text/plain": [
       "rank                       0\n",
       "personName                 0\n",
       "age                       86\n",
       "finalWorth                 0\n",
       "year                       0\n",
       "month                      0\n",
       "category                   0\n",
       "source                     0\n",
       "country                   13\n",
       "state                   1920\n",
       "city                      44\n",
       "countryOfCitizenship       0\n",
       "organization            2316\n",
       "selfMade                   0\n",
       "gender                    16\n",
       "birthDate                 99\n",
       "title                   2267\n",
       "philanthropyScore       2272\n",
       "residenceMsa            2029\n",
       "numberOfSiblings        2541\n",
       "bio                        0\n",
       "about                   1106\n",
       "dtype: int64"
      ]
     },
     "execution_count": 57,
     "metadata": {},
     "output_type": "execute_result"
    }
   ],
   "source": [
    "forbes.isnull().sum()"
   ]
  },
  {
   "cell_type": "code",
   "execution_count": 58,
   "id": "8f8ff518",
   "metadata": {},
   "outputs": [],
   "source": [
    "#forbes[(forbes['age'].isnull())]"
   ]
  },
  {
   "cell_type": "code",
   "execution_count": 59,
   "id": "18827c2b",
   "metadata": {},
   "outputs": [
    {
     "data": {
      "text/plain": [
       "0"
      ]
     },
     "execution_count": 59,
     "metadata": {},
     "output_type": "execute_result"
    }
   ],
   "source": [
    "forbes.duplicated().sum()"
   ]
  },
  {
   "cell_type": "code",
   "execution_count": 60,
   "id": "1d25fc7f",
   "metadata": {},
   "outputs": [
    {
     "name": "stdout",
     "output_type": "stream",
     "text": [
      "<class 'pandas.core.frame.DataFrame'>\n",
      "RangeIndex: 2668 entries, 0 to 2667\n",
      "Data columns (total 22 columns):\n",
      " #   Column                Non-Null Count  Dtype  \n",
      "---  ------                --------------  -----  \n",
      " 0   rank                  2668 non-null   int64  \n",
      " 1   personName            2668 non-null   object \n",
      " 2   age                   2582 non-null   float64\n",
      " 3   finalWorth            2668 non-null   float64\n",
      " 4   year                  2668 non-null   int64  \n",
      " 5   month                 2668 non-null   int64  \n",
      " 6   category              2668 non-null   object \n",
      " 7   source                2668 non-null   object \n",
      " 8   country               2655 non-null   object \n",
      " 9   state                 748 non-null    object \n",
      " 10  city                  2624 non-null   object \n",
      " 11  countryOfCitizenship  2668 non-null   object \n",
      " 12  organization          352 non-null    object \n",
      " 13  selfMade              2668 non-null   bool   \n",
      " 14  gender                2652 non-null   object \n",
      " 15  birthDate             2569 non-null   object \n",
      " 16  title                 401 non-null    object \n",
      " 17  philanthropyScore     396 non-null    float64\n",
      " 18  residenceMsa          639 non-null    object \n",
      " 19  numberOfSiblings      127 non-null    float64\n",
      " 20  bio                   2668 non-null   object \n",
      " 21  about                 1562 non-null   object \n",
      "dtypes: bool(1), float64(4), int64(3), object(14)\n",
      "memory usage: 440.4+ KB\n"
     ]
    }
   ],
   "source": [
    "forbes.info()"
   ]
  },
  {
   "cell_type": "code",
   "execution_count": 61,
   "id": "803b0ee3",
   "metadata": {
    "scrolled": true
   },
   "outputs": [
    {
     "data": {
      "text/plain": [
       "rank                       0\n",
       "personName                 0\n",
       "age                       86\n",
       "finalWorth                 0\n",
       "year                       0\n",
       "month                      0\n",
       "category                   0\n",
       "source                     0\n",
       "country                   13\n",
       "state                   1920\n",
       "city                      44\n",
       "countryOfCitizenship       0\n",
       "organization            2316\n",
       "selfMade                   0\n",
       "gender                    16\n",
       "birthDate                 99\n",
       "title                   2267\n",
       "philanthropyScore       2272\n",
       "residenceMsa            2029\n",
       "numberOfSiblings        2541\n",
       "bio                        0\n",
       "about                   1106\n",
       "dtype: int64"
      ]
     },
     "execution_count": 61,
     "metadata": {},
     "output_type": "execute_result"
    }
   ],
   "source": [
    "forbes.isnull().sum()"
   ]
  },
  {
   "cell_type": "markdown",
   "id": "6fea7e6a",
   "metadata": {},
   "source": [
    "Data cleaning"
   ]
  },
  {
   "cell_type": "code",
   "execution_count": 62,
   "id": "582bec63",
   "metadata": {},
   "outputs": [],
   "source": [
    "# I deleted unnecessary columns\n",
    "del forbes['bio']\n",
    "del forbes['about']\n",
    "del forbes['numberOfSiblings']\n",
    "del forbes['title']\n",
    "del forbes['philanthropyScore']\n",
    "del forbes['state']\n",
    "del forbes['residenceMsa']\n",
    "del forbes['organization']"
   ]
  },
  {
   "cell_type": "code",
   "execution_count": 63,
   "id": "76c20585",
   "metadata": {},
   "outputs": [],
   "source": [
    "# I dropped the empty rows in these columns\n",
    "forbes.dropna(subset = ['country'], inplace = True)\n",
    "forbes.dropna(subset = ['city'], inplace = True)\n",
    "forbes.dropna(subset = ['gender'], inplace = True)"
   ]
  },
  {
   "cell_type": "code",
   "execution_count": 64,
   "id": "b42ab333",
   "metadata": {},
   "outputs": [],
   "source": [
    "# I filled empty rows in the age column with the mean age\n",
    "a= forbes['age'].mean()\n",
    "forbes['age'].fillna(a, inplace = True)"
   ]
  },
  {
   "cell_type": "code",
   "execution_count": 65,
   "id": "b14c680e",
   "metadata": {},
   "outputs": [],
   "source": [
    "# I filled empty rows in the birthDate column with the mean birthDate\n",
    "forbes['birthDate'] = pd.to_datetime(forbes['birthDate'])\n",
    "b = forbes['birthDate'].mean()\n",
    "forbes['birthDate'].fillna(b, inplace = True)"
   ]
  },
  {
   "cell_type": "markdown",
   "id": "bcc0e2bb",
   "metadata": {},
   "source": [
    "DATA ANALYSIS AND VISUALIZATION"
   ]
  },
  {
   "cell_type": "code",
   "execution_count": 66,
   "id": "d679fac2",
   "metadata": {},
   "outputs": [
    {
     "data": {
      "text/html": [
       "<div>\n",
       "<style scoped>\n",
       "    .dataframe tbody tr th:only-of-type {\n",
       "        vertical-align: middle;\n",
       "    }\n",
       "\n",
       "    .dataframe tbody tr th {\n",
       "        vertical-align: top;\n",
       "    }\n",
       "\n",
       "    .dataframe thead th {\n",
       "        text-align: right;\n",
       "    }\n",
       "</style>\n",
       "<table border=\"1\" class=\"dataframe\">\n",
       "  <thead>\n",
       "    <tr style=\"text-align: right;\">\n",
       "      <th></th>\n",
       "      <th>rank</th>\n",
       "      <th>personName</th>\n",
       "      <th>age</th>\n",
       "      <th>finalWorth</th>\n",
       "      <th>year</th>\n",
       "      <th>month</th>\n",
       "      <th>category</th>\n",
       "      <th>source</th>\n",
       "      <th>country</th>\n",
       "      <th>city</th>\n",
       "      <th>countryOfCitizenship</th>\n",
       "      <th>selfMade</th>\n",
       "      <th>gender</th>\n",
       "      <th>birthDate</th>\n",
       "    </tr>\n",
       "  </thead>\n",
       "  <tbody>\n",
       "    <tr>\n",
       "      <th>0</th>\n",
       "      <td>1</td>\n",
       "      <td>Elon Musk</td>\n",
       "      <td>50.0</td>\n",
       "      <td>219000.0</td>\n",
       "      <td>2022</td>\n",
       "      <td>4</td>\n",
       "      <td>Automotive</td>\n",
       "      <td>Tesla, SpaceX</td>\n",
       "      <td>United States</td>\n",
       "      <td>Austin</td>\n",
       "      <td>United States</td>\n",
       "      <td>True</td>\n",
       "      <td>M</td>\n",
       "      <td>1971-06-28</td>\n",
       "    </tr>\n",
       "    <tr>\n",
       "      <th>1</th>\n",
       "      <td>2</td>\n",
       "      <td>Jeff Bezos</td>\n",
       "      <td>58.0</td>\n",
       "      <td>171000.0</td>\n",
       "      <td>2022</td>\n",
       "      <td>4</td>\n",
       "      <td>Technology</td>\n",
       "      <td>Amazon</td>\n",
       "      <td>United States</td>\n",
       "      <td>Seattle</td>\n",
       "      <td>United States</td>\n",
       "      <td>True</td>\n",
       "      <td>M</td>\n",
       "      <td>1964-01-12</td>\n",
       "    </tr>\n",
       "    <tr>\n",
       "      <th>2</th>\n",
       "      <td>3</td>\n",
       "      <td>Bernard Arnault &amp; family</td>\n",
       "      <td>73.0</td>\n",
       "      <td>158000.0</td>\n",
       "      <td>2022</td>\n",
       "      <td>4</td>\n",
       "      <td>Fashion &amp; Retail</td>\n",
       "      <td>LVMH</td>\n",
       "      <td>France</td>\n",
       "      <td>Paris</td>\n",
       "      <td>France</td>\n",
       "      <td>False</td>\n",
       "      <td>M</td>\n",
       "      <td>1949-03-05</td>\n",
       "    </tr>\n",
       "    <tr>\n",
       "      <th>3</th>\n",
       "      <td>4</td>\n",
       "      <td>Bill Gates</td>\n",
       "      <td>66.0</td>\n",
       "      <td>129000.0</td>\n",
       "      <td>2022</td>\n",
       "      <td>4</td>\n",
       "      <td>Technology</td>\n",
       "      <td>Microsoft</td>\n",
       "      <td>United States</td>\n",
       "      <td>Medina</td>\n",
       "      <td>United States</td>\n",
       "      <td>True</td>\n",
       "      <td>M</td>\n",
       "      <td>1955-10-28</td>\n",
       "    </tr>\n",
       "    <tr>\n",
       "      <th>4</th>\n",
       "      <td>5</td>\n",
       "      <td>Warren Buffett</td>\n",
       "      <td>91.0</td>\n",
       "      <td>118000.0</td>\n",
       "      <td>2022</td>\n",
       "      <td>4</td>\n",
       "      <td>Finance &amp; Investments</td>\n",
       "      <td>Berkshire Hathaway</td>\n",
       "      <td>United States</td>\n",
       "      <td>Omaha</td>\n",
       "      <td>United States</td>\n",
       "      <td>True</td>\n",
       "      <td>M</td>\n",
       "      <td>1930-08-30</td>\n",
       "    </tr>\n",
       "  </tbody>\n",
       "</table>\n",
       "</div>"
      ],
      "text/plain": [
       "   rank                personName   age  finalWorth  year  month  \\\n",
       "0     1                 Elon Musk  50.0    219000.0  2022      4   \n",
       "1     2                Jeff Bezos  58.0    171000.0  2022      4   \n",
       "2     3  Bernard Arnault & family  73.0    158000.0  2022      4   \n",
       "3     4                Bill Gates  66.0    129000.0  2022      4   \n",
       "4     5            Warren Buffett  91.0    118000.0  2022      4   \n",
       "\n",
       "                category              source        country     city  \\\n",
       "0             Automotive       Tesla, SpaceX  United States   Austin   \n",
       "1             Technology              Amazon  United States  Seattle   \n",
       "2       Fashion & Retail                LVMH         France    Paris   \n",
       "3             Technology           Microsoft  United States   Medina   \n",
       "4  Finance & Investments  Berkshire Hathaway  United States    Omaha   \n",
       "\n",
       "  countryOfCitizenship  selfMade gender  birthDate  \n",
       "0        United States      True      M 1971-06-28  \n",
       "1        United States      True      M 1964-01-12  \n",
       "2               France     False      M 1949-03-05  \n",
       "3        United States      True      M 1955-10-28  \n",
       "4        United States      True      M 1930-08-30  "
      ]
     },
     "execution_count": 66,
     "metadata": {},
     "output_type": "execute_result"
    }
   ],
   "source": [
    "# I sorted thebfinalWorth to show the networth of all the billionaires in an ascending order\n",
    "C =forbes.sort_values('finalWorth', ascending = False).head(5)\n",
    "C"
   ]
  },
  {
   "cell_type": "code",
   "execution_count": 67,
   "id": "770554dd",
   "metadata": {},
   "outputs": [],
   "source": [
    "# I made a visualization of the 5 richest men and their networth\n",
    "d = C.nlargest(5,['finalWorth'])\n",
    "e = d['personName']\n",
    "f = d['finalWorth']"
   ]
  },
  {
   "cell_type": "code",
   "execution_count": 68,
   "id": "f39d1c92",
   "metadata": {},
   "outputs": [
    {
     "data": {
      "text/plain": [
       "Text(0.5, 1.0, 'Names of Top 5 billionaires and their Networth')"
      ]
     },
     "execution_count": 68,
     "metadata": {},
     "output_type": "execute_result"
    },
    {
     "data": {
      "image/png": "[encoded data removed]",
      "text/plain": [
       "<Figure size 432x288 with 1 Axes>"
      ]
     },
     "metadata": {
      "needs_background": "light"
     },
     "output_type": "display_data"
    }
   ],
   "source": [
    "plt.barh(e,f, color ='hotpink')\n",
    "plt.xlabel('Networth')\n",
    "plt.ylabel('Names')\n",
    "plt.title('Names of Top 5 billionaires and their Networth')"
   ]
  },
  {
   "cell_type": "code",
   "execution_count": 69,
   "id": "136f1540",
   "metadata": {},
   "outputs": [
    {
     "data": {
      "text/plain": [
       "United States    4\n",
       "France           1\n",
       "Name: country, dtype: int64"
      ]
     },
     "execution_count": 69,
     "metadata": {},
     "output_type": "execute_result"
    }
   ],
   "source": [
    "# I sorted for the countries of the 5 richest men and made a pie chart to depict it\n",
    "l =d['country'].value_counts().head(5)\n",
    "l"
   ]
  },
  {
   "cell_type": "code",
   "execution_count": 70,
   "id": "d3a6a1ab",
   "metadata": {},
   "outputs": [
    {
     "data": {
      "text/plain": [
       "<matplotlib.legend.Legend at 0x2bd12a75880>"
      ]
     },
     "execution_count": 70,
     "metadata": {},
     "output_type": "execute_result"
    },
    {
     "data": {
      "image/png": "[encoded data removed]",
      "text/plain": [
       "<Figure size 432x288 with 1 Axes>"
      ]
     },
     "metadata": {},
     "output_type": "display_data"
    }
   ],
   "source": [
    "plt.title('Countries of the Top 5 richest men')\n",
    "d['country'].value_counts().plot(kind = 'pie', cmap = 'coolwarm', autopct = '%.2f%%')\n",
    "plt.legend()"
   ]
  },
  {
   "cell_type": "code",
   "execution_count": 71,
   "id": "017d649f",
   "metadata": {},
   "outputs": [
    {
     "data": {
      "text/html": [
       "<div>\n",
       "<style scoped>\n",
       "    .dataframe tbody tr th:only-of-type {\n",
       "        vertical-align: middle;\n",
       "    }\n",
       "\n",
       "    .dataframe tbody tr th {\n",
       "        vertical-align: top;\n",
       "    }\n",
       "\n",
       "    .dataframe thead th {\n",
       "        text-align: right;\n",
       "    }\n",
       "</style>\n",
       "<table border=\"1\" class=\"dataframe\">\n",
       "  <thead>\n",
       "    <tr style=\"text-align: right;\">\n",
       "      <th></th>\n",
       "      <th>rank</th>\n",
       "      <th>personName</th>\n",
       "      <th>age</th>\n",
       "      <th>finalWorth</th>\n",
       "      <th>year</th>\n",
       "      <th>month</th>\n",
       "      <th>category</th>\n",
       "      <th>source</th>\n",
       "      <th>country</th>\n",
       "      <th>city</th>\n",
       "      <th>countryOfCitizenship</th>\n",
       "      <th>selfMade</th>\n",
       "      <th>gender</th>\n",
       "      <th>birthDate</th>\n",
       "    </tr>\n",
       "  </thead>\n",
       "  <tbody>\n",
       "    <tr>\n",
       "      <th>2577</th>\n",
       "      <td>2578</td>\n",
       "      <td>Krishna Kumar Bangur</td>\n",
       "      <td>61.0</td>\n",
       "      <td>1000.0</td>\n",
       "      <td>2022</td>\n",
       "      <td>4</td>\n",
       "      <td>Manufacturing</td>\n",
       "      <td>graphite electrodes</td>\n",
       "      <td>India</td>\n",
       "      <td>Kolkata</td>\n",
       "      <td>India</td>\n",
       "      <td>False</td>\n",
       "      <td>M</td>\n",
       "      <td>1960-07-02</td>\n",
       "    </tr>\n",
       "    <tr>\n",
       "      <th>2578</th>\n",
       "      <td>2578</td>\n",
       "      <td>Wilbur  'Ed' Bosarge, Jr.</td>\n",
       "      <td>82.0</td>\n",
       "      <td>1000.0</td>\n",
       "      <td>2022</td>\n",
       "      <td>4</td>\n",
       "      <td>Finance &amp; Investments</td>\n",
       "      <td>high speed trading</td>\n",
       "      <td>United States</td>\n",
       "      <td>Houston</td>\n",
       "      <td>United States</td>\n",
       "      <td>True</td>\n",
       "      <td>M</td>\n",
       "      <td>1939-07-28</td>\n",
       "    </tr>\n",
       "    <tr>\n",
       "      <th>2579</th>\n",
       "      <td>2578</td>\n",
       "      <td>Johanna Braun</td>\n",
       "      <td>42.0</td>\n",
       "      <td>1000.0</td>\n",
       "      <td>2022</td>\n",
       "      <td>4</td>\n",
       "      <td>Healthcare</td>\n",
       "      <td>medical technology</td>\n",
       "      <td>Germany</td>\n",
       "      <td>Melsungen</td>\n",
       "      <td>Germany</td>\n",
       "      <td>False</td>\n",
       "      <td>F</td>\n",
       "      <td>1980-01-01</td>\n",
       "    </tr>\n",
       "    <tr>\n",
       "      <th>2580</th>\n",
       "      <td>2578</td>\n",
       "      <td>Karl Friedrich Braun</td>\n",
       "      <td>39.0</td>\n",
       "      <td>1000.0</td>\n",
       "      <td>2022</td>\n",
       "      <td>4</td>\n",
       "      <td>Healthcare</td>\n",
       "      <td>medical technology</td>\n",
       "      <td>Germany</td>\n",
       "      <td>Melsungen</td>\n",
       "      <td>Germany</td>\n",
       "      <td>False</td>\n",
       "      <td>M</td>\n",
       "      <td>1983-01-01</td>\n",
       "    </tr>\n",
       "    <tr>\n",
       "      <th>2581</th>\n",
       "      <td>2578</td>\n",
       "      <td>Jean-Pierre Cayard</td>\n",
       "      <td>79.0</td>\n",
       "      <td>1000.0</td>\n",
       "      <td>2022</td>\n",
       "      <td>4</td>\n",
       "      <td>Food &amp; Beverage</td>\n",
       "      <td>spirits</td>\n",
       "      <td>France</td>\n",
       "      <td>Paris</td>\n",
       "      <td>France</td>\n",
       "      <td>False</td>\n",
       "      <td>M</td>\n",
       "      <td>1943-01-01</td>\n",
       "    </tr>\n",
       "  </tbody>\n",
       "</table>\n",
       "</div>"
      ],
      "text/plain": [
       "      rank                 personName   age  finalWorth  year  month  \\\n",
       "2577  2578       Krishna Kumar Bangur  61.0      1000.0  2022      4   \n",
       "2578  2578  Wilbur  'Ed' Bosarge, Jr.  82.0      1000.0  2022      4   \n",
       "2579  2578              Johanna Braun  42.0      1000.0  2022      4   \n",
       "2580  2578       Karl Friedrich Braun  39.0      1000.0  2022      4   \n",
       "2581  2578         Jean-Pierre Cayard  79.0      1000.0  2022      4   \n",
       "\n",
       "                   category               source        country       city  \\\n",
       "2577          Manufacturing  graphite electrodes          India    Kolkata   \n",
       "2578  Finance & Investments   high speed trading  United States    Houston   \n",
       "2579             Healthcare   medical technology        Germany  Melsungen   \n",
       "2580             Healthcare   medical technology        Germany  Melsungen   \n",
       "2581        Food & Beverage              spirits         France      Paris   \n",
       "\n",
       "     countryOfCitizenship  selfMade gender  birthDate  \n",
       "2577                India     False      M 1960-07-02  \n",
       "2578        United States      True      M 1939-07-28  \n",
       "2579              Germany     False      F 1980-01-01  \n",
       "2580              Germany     False      M 1983-01-01  \n",
       "2581               France     False      M 1943-01-01  "
      ]
     },
     "execution_count": 71,
     "metadata": {},
     "output_type": "execute_result"
    }
   ],
   "source": [
    "#The top 5 poorest billionaires\n",
    "g = forbes.nsmallest(5,['finalWorth'])\n",
    "g"
   ]
  },
  {
   "cell_type": "code",
   "execution_count": 72,
   "id": "7c2e15e0",
   "metadata": {},
   "outputs": [
    {
     "data": {
      "text/plain": [
       "M    2309\n",
       "F     301\n",
       "Name: gender, dtype: int64"
      ]
     },
     "execution_count": 72,
     "metadata": {},
     "output_type": "execute_result"
    }
   ],
   "source": [
    "#I sorted for the number of male and female billioniares and made a pie chart to depict it\n",
    "j =forbes['gender'].value_counts()\n",
    "j"
   ]
  },
  {
   "cell_type": "code",
   "execution_count": 73,
   "id": "7866fbc7",
   "metadata": {},
   "outputs": [
    {
     "data": {
      "text/plain": [
       "<matplotlib.legend.Legend at 0x2bd129d81f0>"
      ]
     },
     "execution_count": 73,
     "metadata": {},
     "output_type": "execute_result"
    },
    {
     "data": {
      "image/png": "[encoded data removed]",
      "text/plain": [
       "<Figure size 432x288 with 1 Axes>"
      ]
     },
     "metadata": {},
     "output_type": "display_data"
    }
   ],
   "source": [
    "mylabel = ['Male',  'Female']\n",
    "col = ['blue', 'hotpink']\n",
    "forbes['gender'].value_counts().plot(kind= 'pie',autopct = '%.2f%%', colors = col , labels = mylabel, title='Percentage of male to female Billionairess')\n",
    "plt.legend()"
   ]
  },
  {
   "cell_type": "code",
   "execution_count": 74,
   "id": "44dcb0ef",
   "metadata": {},
   "outputs": [
    {
     "data": {
      "text/plain": [
       "True     1859\n",
       "False     751\n",
       "Name: selfMade, dtype: int64"
      ]
     },
     "execution_count": 74,
     "metadata": {},
     "output_type": "execute_result"
    }
   ],
   "source": [
    "#I sorted for the number of slefmade and non-selfmade billioniares and made a pie chart to depict it\n",
    "o =forbes['selfMade'].value_counts()\n",
    "o"
   ]
  },
  {
   "cell_type": "code",
   "execution_count": 75,
   "id": "c0927fad",
   "metadata": {},
   "outputs": [
    {
     "data": {
      "text/plain": [
       "<matplotlib.legend.Legend at 0x2bd12c2dd00>"
      ]
     },
     "execution_count": 75,
     "metadata": {},
     "output_type": "execute_result"
    },
    {
     "data": {
      "image/png": "[encoded data removed]",
      "text/plain": [
       "<Figure size 432x288 with 1 Axes>"
      ]
     },
     "metadata": {},
     "output_type": "display_data"
    }
   ],
   "source": [
    "col1 = ['#ffa781','#5b0e2d']\n",
    "mylabel1 = ['selfmade', 'not-selfmade']\n",
    "forbes['selfMade'].value_counts().plot(kind = 'pie',autopct = '%.2f%%', colors = col1, labels = mylabel1, title = 'Percentage of selfmade billionaires to non-slefmade billionaires ')\n",
    "plt.legend()"
   ]
  },
  {
   "cell_type": "code",
   "execution_count": 76,
   "id": "2cf14a30",
   "metadata": {},
   "outputs": [
    {
     "data": {
      "text/plain": [
       "United States     744\n",
       "China             568\n",
       "India             156\n",
       "Germany           109\n",
       "United Kingdom     82\n",
       "Name: country, dtype: int64"
      ]
     },
     "execution_count": 76,
     "metadata": {},
     "output_type": "execute_result"
    }
   ],
   "source": [
    "# I subsetted for the numbers of billionaires per country\n",
    "forbes['country'].value_counts().head(5)\n"
   ]
  },
  {
   "cell_type": "code",
   "execution_count": 77,
   "id": "d4c2baed",
   "metadata": {},
   "outputs": [
    {
     "data": {
      "text/plain": [
       "Nepal       1\n",
       "Tanzania    1\n",
       "Bahrain     1\n",
       "Greece      1\n",
       "Cambodia    1\n",
       "Name: country, dtype: int64"
      ]
     },
     "execution_count": 77,
     "metadata": {},
     "output_type": "execute_result"
    }
   ],
   "source": [
    "forbes['country'].value_counts().tail(5)\n"
   ]
  },
  {
   "cell_type": "code",
   "execution_count": 78,
   "id": "4f585aca",
   "metadata": {},
   "outputs": [
    {
     "data": {
      "text/plain": [
       "Text(0.5, 1.0, 'Top 10 countries with the highest number of billionaires')"
      ]
     },
     "execution_count": 78,
     "metadata": {},
     "output_type": "execute_result"
    },
    {
     "data": {
      "image/png": "[encoded data removed]",
      "text/plain": [
       "<Figure size 432x288 with 1 Axes>"
      ]
     },
     "metadata": {
      "needs_background": "light"
     },
     "output_type": "display_data"
    }
   ],
   "source": [
    "forbes['country'].value_counts().head(10).plot(kind = 'barh', color = 'hotpink')\n",
    "plt.xlabel('Number of billionaires')\n",
    "plt.ylabel('Countries')\n",
    "plt.title('Top 10 countries with the highest number of billionaires')"
   ]
  },
  {
   "cell_type": "code",
   "execution_count": 79,
   "id": "c32f34a8",
   "metadata": {},
   "outputs": [
    {
     "data": {
      "text/plain": [
       "Finance & Investments         381\n",
       "Technology                    337\n",
       "Manufacturing                 329\n",
       "Fashion & Retail              242\n",
       "Healthcare                    214\n",
       "Food & Beverage               193\n",
       "Real Estate                   191\n",
       "Diversified                   178\n",
       "Media & Entertainment          97\n",
       "Energy                         95\n",
       "Automotive                     68\n",
       "Metals & Mining                66\n",
       "Service                        53\n",
       "Construction & Engineering     46\n",
       "Telecom                        37\n",
       "Logistics                      34\n",
       "Sports                         26\n",
       "Gambling & Casinos             23\n",
       "Name: category, dtype: int64"
      ]
     },
     "execution_count": 79,
     "metadata": {},
     "output_type": "execute_result"
    }
   ],
   "source": [
    "# This shows the number of billionaires in each category\n",
    "forbes['category'].value_counts()"
   ]
  },
  {
   "cell_type": "code",
   "execution_count": 80,
   "id": "9abacb59",
   "metadata": {},
   "outputs": [
    {
     "data": {
      "text/plain": [
       "category\n",
       "Technology                    2161700.0\n",
       "Finance & Investments         1681200.0\n",
       "Fashion & Retail              1549400.0\n",
       "Manufacturing                 1080900.0\n",
       "Food & Beverage                902550.0\n",
       "Diversified                    900000.0\n",
       "Healthcare                     707300.0\n",
       "Real Estate                    681400.0\n",
       "Automotive                     574700.0\n",
       "Media & Entertainment          492600.0\n",
       "Energy                         397300.0\n",
       "Metals & Mining                386400.0\n",
       "Telecom                        207100.0\n",
       "Service                        188100.0\n",
       "Logistics                      179400.0\n",
       "Construction & Engineering     123900.0\n",
       "Gambling & Casinos             107600.0\n",
       "Sports                          97400.0\n",
       "Name: finalWorth, dtype: float64"
      ]
     },
     "execution_count": 80,
     "metadata": {},
     "output_type": "execute_result"
    }
   ],
   "source": [
    "# This shows the sum of money the billioniares in each category has in a descending orderhvkv \n",
    "forbes.groupby('category').sum()['finalWorth'].sort_values(ascending = False)\n"
   ]
  },
  {
   "cell_type": "code",
   "execution_count": 81,
   "id": "a3c685ab",
   "metadata": {},
   "outputs": [
    {
     "name": "stderr",
     "output_type": "stream",
     "text": [
      "C:\\Users\\MY PC\\anaconda3\\lib\\site-packages\\seaborn\\distributions.py:2619: FutureWarning: `distplot` is a deprecated function and will be removed in a future version. Please adapt your code to use either `displot` (a figure-level function with similar flexibility) or `histplot` (an axes-level function for histograms).\n",
      "  warnings.warn(msg, FutureWarning)\n"
     ]
    },
    {
     "data": {
      "text/plain": [
       "<AxesSubplot:xlabel='age', ylabel='Density'>"
      ]
     },
     "execution_count": 81,
     "metadata": {},
     "output_type": "execute_result"
    },
    {
     "data": {
      "image/png": "[encoded data removed]",
      "text/plain": [
       "<Figure size 432x288 with 1 Axes>"
      ]
     },
     "metadata": {
      "needs_background": "light"
     },
     "output_type": "display_data"
    }
   ],
   "source": [
    "sns.distplot(forbes['age'])"
   ]
  },
  {
   "cell_type": "code",
   "execution_count": null,
   "id": "6a3d46a6",
   "metadata": {
    "scrolled": true
   },
   "outputs": [],
   "source": [
    "#The age of the youngest billionaire\n",
    "forbes['age'].min()"
   ]
  },
  {
   "cell_type": "code",
   "execution_count": null,
   "id": "08dc68ff",
   "metadata": {},
   "outputs": [],
   "source": [
    "# The age of the oldest billionaire\n",
    "forbes['age'].max()"
   ]
  },
  {
   "cell_type": "markdown",
   "id": "bfd417bd",
   "metadata": {},
   "source": [
    "In the following cells, i used sql to query data for details of the billionaires with a 10 year age interval\n",
    "I tried to find the trend in the percentage of male and female billionaires and selfmade to non-aelf made billionaires"
   ]
  },
  {
   "cell_type": "code",
   "execution_count": null,
   "id": "f05ba99d",
   "metadata": {},
   "outputs": [],
   "source": [
    "forbes.to_csv('forbes_clean.csv')"
   ]
  },
  {
   "cell_type": "code",
   "execution_count": 119,
   "id": "445ad470",
   "metadata": {},
   "outputs": [],
   "source": [
    "aa= pd.read_csv('forbes_25_30.csv')\n",
    "aa.rename(columns = {'MyUnknownColumn': 'sn'}, inplace = True)\n"
   ]
  },
  {
   "cell_type": "code",
   "execution_count": 120,
   "id": "08a9b2c5",
   "metadata": {},
   "outputs": [
    {
     "data": {
      "text/plain": [
       "14"
      ]
     },
     "execution_count": 120,
     "metadata": {},
     "output_type": "execute_result"
    }
   ],
   "source": [
    "# The number of billionaires betweeen age 25 and 30\n",
    "aa['sn'].count()"
   ]
  },
  {
   "cell_type": "code",
   "execution_count": 121,
   "id": "0e71628a",
   "metadata": {},
   "outputs": [
    {
     "data": {
      "text/plain": [
       "True     9\n",
       "False    5\n",
       "Name: selfMade, dtype: int64"
      ]
     },
     "execution_count": 121,
     "metadata": {},
     "output_type": "execute_result"
    }
   ],
   "source": [
    "# The numeber of selfmade and non-selfmade billionaires between the age 25-30\n",
    "aao =aa['selfMade'].value_counts()\n",
    "aao"
   ]
  },
  {
   "cell_type": "code",
   "execution_count": 122,
   "id": "c0c1035d",
   "metadata": {},
   "outputs": [
    {
     "data": {
      "text/plain": [
       "Text(0.5, 1.0, 'Percentage of selfmade billionaires to non-slefmade billionaires aged 25-30')"
      ]
     },
     "execution_count": 122,
     "metadata": {},
     "output_type": "execute_result"
    },
    {
     "data": {
      "image/png": "[encoded data removed]",
      "text/plain": [
       "<Figure size 432x288 with 1 Axes>"
      ]
     },
     "metadata": {},
     "output_type": "display_data"
    }
   ],
   "source": [
    "col1 = ['#ffa781','#5b0e2d']\n",
    "mylabel1 = ['selfmade', 'not-selfmade']\n",
    "plt.pie(aao, colors = col1, labels = mylabel1,autopct = '%.2f%%')\n",
    "plt.legend()\n",
    "plt.title('Percentage of selfmade billionaires to non-slefmade billionaires aged 25-30')"
   ]
  },
  {
   "cell_type": "code",
   "execution_count": 124,
   "id": "d1b95800",
   "metadata": {},
   "outputs": [
    {
     "data": {
      "text/plain": [
       "M    12\n",
       "F     2\n",
       "Name: gender, dtype: int64"
      ]
     },
     "execution_count": 124,
     "metadata": {},
     "output_type": "execute_result"
    }
   ],
   "source": [
    "# The number of male and female billionaires between the age 25 and 30\n",
    "aaj =aa['gender'].value_counts()\n",
    "aaj"
   ]
  },
  {
   "cell_type": "code",
   "execution_count": 125,
   "id": "ac14db14",
   "metadata": {},
   "outputs": [
    {
     "data": {
      "text/plain": [
       "<matplotlib.legend.Legend at 0x2bd147378e0>"
      ]
     },
     "execution_count": 125,
     "metadata": {},
     "output_type": "execute_result"
    },
    {
     "data": {
      "image/png": "[encoded data removed]",
      "text/plain": [
       "<Figure size 432x288 with 1 Axes>"
      ]
     },
     "metadata": {},
     "output_type": "display_data"
    }
   ],
   "source": [
    "mylabel = ['Male',  'Female']\n",
    "col = ['blue', 'hotpink']\n",
    "aa['gender'].value_counts().plot(kind= 'pie',autopct = '%.2f%%', colors = col , labels = mylabel, title='Percentage of male to female Billionaires aged 25-30')\n",
    "plt.legend()"
   ]
  },
  {
   "cell_type": "code",
   "execution_count": 84,
   "id": "c69e1b83",
   "metadata": {},
   "outputs": [
    {
     "data": {
      "text/plain": [
       "91"
      ]
     },
     "execution_count": 84,
     "metadata": {},
     "output_type": "execute_result"
    }
   ],
   "source": [
    "ab = pd.read_csv('forbes_31_40.csv')\n",
    "ab.rename(columns = {'MyUnknownColumn': 'sn'}, inplace = True)\n"
   ]
  },
  {
   "cell_type": "code",
   "execution_count": 126,
   "id": "077539e2",
   "metadata": {},
   "outputs": [
    {
     "data": {
      "text/plain": [
       "91"
      ]
     },
     "execution_count": 126,
     "metadata": {},
     "output_type": "execute_result"
    }
   ],
   "source": [
    "# The number of billionaires between the age 31 and 40\n",
    "ab['sn'].count()"
   ]
  },
  {
   "cell_type": "code",
   "execution_count": 127,
   "id": "a89d8be5",
   "metadata": {},
   "outputs": [
    {
     "data": {
      "text/plain": [
       "True     65\n",
       "False    26\n",
       "Name: selfMade, dtype: int64"
      ]
     },
     "execution_count": 127,
     "metadata": {},
     "output_type": "execute_result"
    }
   ],
   "source": [
    "# The number of  selfmade and non-selfmade billionaires between the age 31 and 40\n",
    "abo =ab['selfMade'].value_counts()\n",
    "abo"
   ]
  },
  {
   "cell_type": "code",
   "execution_count": 128,
   "id": "09b3244d",
   "metadata": {},
   "outputs": [
    {
     "data": {
      "text/plain": [
       "Text(0.5, 1.0, 'Percentage of selfmade billionaires to non-slefmade billionaires aged 31-40')"
      ]
     },
     "execution_count": 128,
     "metadata": {},
     "output_type": "execute_result"
    },
    {
     "data": {
      "image/png": "[encoded data removed]",
      "text/plain": [
       "<Figure size 432x288 with 1 Axes>"
      ]
     },
     "metadata": {},
     "output_type": "display_data"
    }
   ],
   "source": [
    "col1 = ['#ffa781','#5b0e2d']\n",
    "mylabel1 = ['selfmade', 'not-selfmade']\n",
    "plt.pie(abo, colors = col1, labels = mylabel1,autopct = '%.2f%%')\n",
    "plt.legend()\n",
    "plt.title('Percentage of selfmade billionaires to non-slefmade billionaires aged 31-40')"
   ]
  },
  {
   "cell_type": "code",
   "execution_count": 129,
   "id": "29048f39",
   "metadata": {},
   "outputs": [
    {
     "data": {
      "text/plain": [
       "M    76\n",
       "F    15\n",
       "Name: gender, dtype: int64"
      ]
     },
     "execution_count": 129,
     "metadata": {},
     "output_type": "execute_result"
    }
   ],
   "source": [
    "# The number of male and female billionaires between the age 31 and 40\n",
    "aaj =ab['gender'].value_counts()\n",
    "aaj"
   ]
  },
  {
   "cell_type": "code",
   "execution_count": 88,
   "id": "37106f35",
   "metadata": {},
   "outputs": [
    {
     "data": {
      "text/plain": [
       "<matplotlib.legend.Legend at 0x2bd12d945b0>"
      ]
     },
     "execution_count": 88,
     "metadata": {},
     "output_type": "execute_result"
    },
    {
     "data": {
      "image/png": "[encoded data removed]",
      "text/plain": [
       "<Figure size 432x288 with 1 Axes>"
      ]
     },
     "metadata": {},
     "output_type": "display_data"
    }
   ],
   "source": [
    "mylabel = ['Male',  'Female ']\n",
    "col = ['blue', 'hotpink']\n",
    "ab['gender'].value_counts().plot(kind= 'pie' ,autopct = '%.2f%%',colors = col , labels = mylabel, title='Percentage of male to female Billionaires aged 31-40')\n",
    "plt.legend()"
   ]
  },
  {
   "cell_type": "code",
   "execution_count": null,
   "id": "8657b739",
   "metadata": {},
   "outputs": [],
   "source": []
  },
  {
   "cell_type": "code",
   "execution_count": 131,
   "id": "50907a22",
   "metadata": {
    "scrolled": true
   },
   "outputs": [],
   "source": [
    "ac = pd.read_csv('forbes_41_50.csv')\n",
    "ac.rename(columns = {'MyUnknownColumn': 'sn'}, inplace = True)\n"
   ]
  },
  {
   "cell_type": "code",
   "execution_count": 132,
   "id": "5048e052",
   "metadata": {},
   "outputs": [
    {
     "data": {
      "text/plain": [
       "254"
      ]
     },
     "execution_count": 132,
     "metadata": {},
     "output_type": "execute_result"
    }
   ],
   "source": [
    "# The number of billionaires between the age 41 and 50\n",
    "ac['sn'].count()"
   ]
  },
  {
   "cell_type": "code",
   "execution_count": 90,
   "id": "0cac6507",
   "metadata": {},
   "outputs": [],
   "source": [
    "aco =ac['selfMade'].value_counts()\n",
    "acj =ac['gender'].value_counts()\n",
    "ach =ac['category'].value_counts()"
   ]
  },
  {
   "cell_type": "code",
   "execution_count": 91,
   "id": "2d5930a5",
   "metadata": {},
   "outputs": [
    {
     "data": {
      "text/plain": [
       "True     195\n",
       "False     59\n",
       "Name: selfMade, dtype: int64"
      ]
     },
     "execution_count": 91,
     "metadata": {},
     "output_type": "execute_result"
    }
   ],
   "source": [
    "# The number of selfmade and non-selfmade billionaires between the age 41 and 50\n",
    "aco"
   ]
  },
  {
   "cell_type": "code",
   "execution_count": 92,
   "id": "b9a6ea63",
   "metadata": {},
   "outputs": [
    {
     "data": {
      "text/plain": [
       "Text(0.5, 1.0, 'Percentage of selfmade billionaires to non-slefmade billionaires aged 41-50')"
      ]
     },
     "execution_count": 92,
     "metadata": {},
     "output_type": "execute_result"
    },
    {
     "data": {
      "image/png": "[encoded data removed]",
      "text/plain": [
       "<Figure size 432x288 with 1 Axes>"
      ]
     },
     "metadata": {},
     "output_type": "display_data"
    }
   ],
   "source": [
    "col1 = ['#ffa781','#5b0e2d']\n",
    "mylabel1 = ['selfmade', 'not-selfmade ']\n",
    "plt.pie(aco, colors = col1, labels = mylabel1,autopct = '%.2f%%')\n",
    "plt.legend()\n",
    "plt.title('Percentage of selfmade billionaires to non-slefmade billionaires aged 41-50')"
   ]
  },
  {
   "cell_type": "code",
   "execution_count": 137,
   "id": "86eb368e",
   "metadata": {},
   "outputs": [
    {
     "data": {
      "text/plain": [
       "M    225\n",
       "F     29\n",
       "Name: gender, dtype: int64"
      ]
     },
     "execution_count": 137,
     "metadata": {},
     "output_type": "execute_result"
    }
   ],
   "source": [
    "# The number of male and female billionaires between the age 41 and 50\n",
    "acj"
   ]
  },
  {
   "cell_type": "code",
   "execution_count": 94,
   "id": "0ae992de",
   "metadata": {},
   "outputs": [
    {
     "data": {
      "text/plain": [
       "<matplotlib.legend.Legend at 0x2bd132a32e0>"
      ]
     },
     "execution_count": 94,
     "metadata": {},
     "output_type": "execute_result"
    },
    {
     "data": {
      "image/png": "[encoded data removed]",
      "text/plain": [
       "<Figure size 432x288 with 1 Axes>"
      ]
     },
     "metadata": {},
     "output_type": "display_data"
    }
   ],
   "source": [
    "mylabel = ['Male',  'Female']\n",
    "col = ['blue', 'hotpink']\n",
    "ac['gender'].value_counts().plot(kind= 'pie',autopct = '%.2f%%', colors = col , labels = mylabel, title='Percentage of male to female Billionaires aged 41-50')\n",
    "plt.legend()"
   ]
  },
  {
   "cell_type": "code",
   "execution_count": null,
   "id": "65d808b5",
   "metadata": {},
   "outputs": [],
   "source": []
  },
  {
   "cell_type": "code",
   "execution_count": 135,
   "id": "f6f22464",
   "metadata": {},
   "outputs": [],
   "source": [
    "ad = pd.read_csv('forbes_51_60.csv')\n",
    "ad.rename(columns = {'MyUnknownColumn': 'sn'}, inplace = True)\n"
   ]
  },
  {
   "cell_type": "code",
   "execution_count": 136,
   "id": "da0e7f2c",
   "metadata": {},
   "outputs": [
    {
     "data": {
      "text/plain": [
       "706"
      ]
     },
     "execution_count": 136,
     "metadata": {},
     "output_type": "execute_result"
    }
   ],
   "source": [
    "# The number of billionaires between the age 51 and 60\n",
    "ad['sn'].count()"
   ]
  },
  {
   "cell_type": "code",
   "execution_count": 96,
   "id": "401674e2",
   "metadata": {},
   "outputs": [],
   "source": [
    "ado =ad['selfMade'].value_counts()\n",
    "adj =ad['gender'].value_counts()\n",
    "adh =ad['category'].value_counts()"
   ]
  },
  {
   "cell_type": "code",
   "execution_count": 97,
   "id": "35c50824",
   "metadata": {},
   "outputs": [
    {
     "data": {
      "text/plain": [
       "True     568\n",
       "False    138\n",
       "Name: selfMade, dtype: int64"
      ]
     },
     "execution_count": 97,
     "metadata": {},
     "output_type": "execute_result"
    }
   ],
   "source": [
    "# The number of selfmade and non-selfmade billionaires between the age 51 and 60\n",
    "ado"
   ]
  },
  {
   "cell_type": "code",
   "execution_count": 98,
   "id": "fe4a3b58",
   "metadata": {},
   "outputs": [
    {
     "data": {
      "text/plain": [
       "Text(0.5, 1.0, 'Percentage of selfmade billionaires to non-slefmade billionaires aged 51-60')"
      ]
     },
     "execution_count": 98,
     "metadata": {},
     "output_type": "execute_result"
    },
    {
     "data": {
      "image/png": "[encoded data removed]",
      "text/plain": [
       "<Figure size 432x288 with 1 Axes>"
      ]
     },
     "metadata": {},
     "output_type": "display_data"
    }
   ],
   "source": [
    "col1 = ['#ffa781','#5b0e2d']\n",
    "mylabel1 = ['selfmade', 'not-selfmade']\n",
    "plt.pie(ado, colors = col1, labels = mylabel1,autopct = '%.3f%%')\n",
    "plt.legend()\n",
    "plt.title('Percentage of selfmade billionaires to non-slefmade billionaires aged 51-60')"
   ]
  },
  {
   "cell_type": "code",
   "execution_count": 99,
   "id": "b0f85e5b",
   "metadata": {},
   "outputs": [
    {
     "data": {
      "text/plain": [
       "M    618\n",
       "F     88\n",
       "Name: gender, dtype: int64"
      ]
     },
     "execution_count": 99,
     "metadata": {},
     "output_type": "execute_result"
    }
   ],
   "source": [
    "#The number of male and female billionaires between the age 51 and 60\n",
    "adj"
   ]
  },
  {
   "cell_type": "code",
   "execution_count": 100,
   "id": "c38677a9",
   "metadata": {},
   "outputs": [
    {
     "data": {
      "text/plain": [
       "<matplotlib.legend.Legend at 0x2bd133b9f70>"
      ]
     },
     "execution_count": 100,
     "metadata": {},
     "output_type": "execute_result"
    },
    {
     "data": {
      "image/png": "[encoded data removed]",
      "text/plain": [
       "<Figure size 432x288 with 1 Axes>"
      ]
     },
     "metadata": {},
     "output_type": "display_data"
    }
   ],
   "source": [
    "mylabel = ['Male',  'Female ']\n",
    "col = ['blue', 'hotpink']\n",
    "ad['gender'].value_counts().plot(kind= 'pie',autopct = '%.2f%%', colors = col , labels = mylabel, title='Percentage of male to female Billionaires aged 51-60')\n",
    "plt.legend()"
   ]
  },
  {
   "cell_type": "code",
   "execution_count": 139,
   "id": "8495e775",
   "metadata": {},
   "outputs": [],
   "source": [
    "ae = pd.read_csv('forbes_61_70.csv')\n",
    "ae.rename(columns = {'MyUnknownColumn': 'sn'}, inplace = True)\n",
    "\n"
   ]
  },
  {
   "cell_type": "code",
   "execution_count": 138,
   "id": "cb30c7ec",
   "metadata": {},
   "outputs": [
    {
     "data": {
      "text/plain": [
       "703"
      ]
     },
     "execution_count": 138,
     "metadata": {},
     "output_type": "execute_result"
    }
   ],
   "source": [
    "#The number of billionaires between the age 61 and 70\n",
    "ae['sn'].count()"
   ]
  },
  {
   "cell_type": "code",
   "execution_count": 102,
   "id": "b6c1271c",
   "metadata": {},
   "outputs": [],
   "source": [
    "aeo =ae['selfMade'].value_counts()\n",
    "aej =ae['gender'].value_counts()\n",
    "aeh =ae['category'].value_counts()"
   ]
  },
  {
   "cell_type": "code",
   "execution_count": 103,
   "id": "bf8b7efe",
   "metadata": {},
   "outputs": [
    {
     "data": {
      "text/plain": [
       "True     468\n",
       "False    235\n",
       "Name: selfMade, dtype: int64"
      ]
     },
     "execution_count": 103,
     "metadata": {},
     "output_type": "execute_result"
    }
   ],
   "source": [
    "#The number of selfmade and non-selfmade billionaires between the age 61 and 70\n",
    "aeo"
   ]
  },
  {
   "cell_type": "code",
   "execution_count": 104,
   "id": "be410cc8",
   "metadata": {},
   "outputs": [
    {
     "data": {
      "text/plain": [
       "Text(0.5, 1.0, 'Percentage of selfmade billionaires to non-slefmade billionaires aged 61-70')"
      ]
     },
     "execution_count": 104,
     "metadata": {},
     "output_type": "execute_result"
    },
    {
     "data": {
      "image/png": "[encoded data removed]",
      "text/plain": [
       "<Figure size 432x288 with 1 Axes>"
      ]
     },
     "metadata": {},
     "output_type": "display_data"
    }
   ],
   "source": [
    "col1 = ['#ffa781','#5b0e2d']\n",
    "mylabel1 = ['selfmade', 'not-selfmade']\n",
    "plt.pie(aeo, colors = col1, labels = mylabel1,autopct = '%.2f%%')\n",
    "plt.legend()\n",
    "plt.title('Percentage of selfmade billionaires to non-slefmade billionaires aged 61-70')"
   ]
  },
  {
   "cell_type": "code",
   "execution_count": 105,
   "id": "1a2969a4",
   "metadata": {},
   "outputs": [
    {
     "data": {
      "text/plain": [
       "M    620\n",
       "F     83\n",
       "Name: gender, dtype: int64"
      ]
     },
     "execution_count": 105,
     "metadata": {},
     "output_type": "execute_result"
    }
   ],
   "source": [
    "#The number of male and female billionaires between the age 61 and 70\n",
    "aej"
   ]
  },
  {
   "cell_type": "code",
   "execution_count": 106,
   "id": "9718a4b9",
   "metadata": {},
   "outputs": [
    {
     "data": {
      "text/plain": [
       "<matplotlib.legend.Legend at 0x2bd1445abe0>"
      ]
     },
     "execution_count": 106,
     "metadata": {},
     "output_type": "execute_result"
    },
    {
     "data": {
      "image/png": "[encoded data removed]",
      "text/plain": [
       "<Figure size 432x288 with 1 Axes>"
      ]
     },
     "metadata": {},
     "output_type": "display_data"
    }
   ],
   "source": [
    "mylabel = ['Male',  'Female']\n",
    "col = ['blue', 'hotpink']\n",
    "ae['gender'].value_counts().plot(kind= 'pie',autopct = '%.2f%%', colors = col , labels = mylabel, title='Percentage of male to female Billionaires aged 61-70')\n",
    "plt.legend()"
   ]
  },
  {
   "cell_type": "code",
   "execution_count": null,
   "id": "7b7c80a8",
   "metadata": {},
   "outputs": [],
   "source": []
  },
  {
   "cell_type": "code",
   "execution_count": 141,
   "id": "641badc3",
   "metadata": {},
   "outputs": [],
   "source": [
    "af = pd.read_csv('forbes_71_80.csv')\n",
    "af.rename(columns = {'MyUnknownColumn': 'sn'}, inplace = True)\n"
   ]
  },
  {
   "cell_type": "code",
   "execution_count": 140,
   "id": "f8b91ed2",
   "metadata": {},
   "outputs": [
    {
     "data": {
      "text/plain": [
       "538"
      ]
     },
     "execution_count": 140,
     "metadata": {},
     "output_type": "execute_result"
    }
   ],
   "source": [
    "#The number of billionaires between the age 71 and 80\n",
    "af['sn'].count()"
   ]
  },
  {
   "cell_type": "code",
   "execution_count": 108,
   "id": "24683514",
   "metadata": {},
   "outputs": [],
   "source": [
    "afo =af['selfMade'].value_counts()\n",
    "afj =af['gender'].value_counts()\n",
    "afh =af['category'].value_counts()/100*100"
   ]
  },
  {
   "cell_type": "code",
   "execution_count": 109,
   "id": "d2133498",
   "metadata": {},
   "outputs": [
    {
     "data": {
      "text/plain": [
       "True     352\n",
       "False    186\n",
       "Name: selfMade, dtype: int64"
      ]
     },
     "execution_count": 109,
     "metadata": {},
     "output_type": "execute_result"
    }
   ],
   "source": [
    "#The number of selfmade and non-selfmade billionaires between the age 71 and 80\n",
    "afo"
   ]
  },
  {
   "cell_type": "code",
   "execution_count": 110,
   "id": "1dddcbf5",
   "metadata": {},
   "outputs": [
    {
     "data": {
      "text/plain": [
       "Text(0.5, 1.0, 'Percentage of selfmade billionaires to non-slefmade billionaires aged 71-80')"
      ]
     },
     "execution_count": 110,
     "metadata": {},
     "output_type": "execute_result"
    },
    {
     "data": {
      "image/png": "[encoded data removed]",
      "text/plain": [
       "<Figure size 432x288 with 1 Axes>"
      ]
     },
     "metadata": {},
     "output_type": "display_data"
    }
   ],
   "source": [
    "col1 = ['#ffa781','#5b0e2d']\n",
    "mylabel1 = ['selfmade', 'not-selfmade']\n",
    "plt.pie(afo, colors = col1, labels = mylabel1,autopct = '%.2f%%')\n",
    "plt.legend()\n",
    "plt.title('Percentage of selfmade billionaires to non-slefmade billionaires aged 71-80')"
   ]
  },
  {
   "cell_type": "code",
   "execution_count": 111,
   "id": "9fc3a54b",
   "metadata": {},
   "outputs": [
    {
     "data": {
      "text/plain": [
       "M    485\n",
       "F     53\n",
       "Name: gender, dtype: int64"
      ]
     },
     "execution_count": 111,
     "metadata": {},
     "output_type": "execute_result"
    }
   ],
   "source": [
    "#The number of male and female billionaires between the age 71 and 80\n",
    "afj"
   ]
  },
  {
   "cell_type": "code",
   "execution_count": 112,
   "id": "59b99d9f",
   "metadata": {},
   "outputs": [
    {
     "data": {
      "text/plain": [
       "<matplotlib.legend.Legend at 0x2bd14594e20>"
      ]
     },
     "execution_count": 112,
     "metadata": {},
     "output_type": "execute_result"
    },
    {
     "data": {
      "image/png": "[encoded data removed]",
      "text/plain": [
       "<Figure size 432x288 with 1 Axes>"
      ]
     },
     "metadata": {},
     "output_type": "display_data"
    }
   ],
   "source": [
    "mylabel = ['Male',  'Female']\n",
    "col = ['blue', 'hotpink']\n",
    "af['gender'].value_counts().plot(kind= 'pie',autopct = '%.2f%%', colors = col , labels = mylabel, title='Percentage of male to female Billionaires aged 71-80')\n",
    "plt.legend()"
   ]
  },
  {
   "cell_type": "code",
   "execution_count": 142,
   "id": "59663f96",
   "metadata": {},
   "outputs": [],
   "source": [
    "ag = pd.read_csv('forbes_81_100.csv')\n",
    "ag.rename(columns = {'MyUnknownColumn': 'sn'}, inplace = True)\n"
   ]
  },
  {
   "cell_type": "code",
   "execution_count": 143,
   "id": "157ef106",
   "metadata": {},
   "outputs": [
    {
     "data": {
      "text/plain": [
       "304"
      ]
     },
     "execution_count": 143,
     "metadata": {},
     "output_type": "execute_result"
    }
   ],
   "source": [
    "#The number of billionaires between the age 81 and 100\n",
    "ag['sn'].count()"
   ]
  },
  {
   "cell_type": "code",
   "execution_count": 114,
   "id": "55fc1533",
   "metadata": {},
   "outputs": [],
   "source": [
    "ago =ag['selfMade'].value_counts()\n",
    "agj =ag['gender'].value_counts()\n",
    "agh =ag['category'].value_counts()/100*100"
   ]
  },
  {
   "cell_type": "code",
   "execution_count": 144,
   "id": "dc7d071e",
   "metadata": {},
   "outputs": [
    {
     "data": {
      "text/plain": [
       "True     202\n",
       "False    102\n",
       "Name: selfMade, dtype: int64"
      ]
     },
     "execution_count": 144,
     "metadata": {},
     "output_type": "execute_result"
    }
   ],
   "source": [
    "#The number of selfmade and non-selfmade billionaires between the age 81 and 100\n",
    "ago"
   ]
  },
  {
   "cell_type": "code",
   "execution_count": 116,
   "id": "f5866634",
   "metadata": {},
   "outputs": [
    {
     "data": {
      "text/plain": [
       "Text(0.5, 1.0, 'Percentage of selfmade billionaires to non-slefmade billionaires aged 81-100')"
      ]
     },
     "execution_count": 116,
     "metadata": {},
     "output_type": "execute_result"
    },
    {
     "data": {
      "image/png": "[encoded data removed]",
      "text/plain": [
       "<Figure size 432x288 with 1 Axes>"
      ]
     },
     "metadata": {},
     "output_type": "display_data"
    }
   ],
   "source": [
    "col1 = ['#ffa781','#5b0e2d']\n",
    "mylabel1 = ['selfmade', 'not-selfmade']\n",
    "plt.pie(ago, colors = col1, labels = mylabel1,autopct = '%.2f%%')\n",
    "plt.legend()\n",
    "plt.title('Percentage of selfmade billionaires to non-slefmade billionaires aged 81-100')"
   ]
  },
  {
   "cell_type": "code",
   "execution_count": 146,
   "id": "109fbc44",
   "metadata": {},
   "outputs": [
    {
     "data": {
      "text/plain": [
       "M    273\n",
       "F     31\n",
       "Name: gender, dtype: int64"
      ]
     },
     "execution_count": 146,
     "metadata": {},
     "output_type": "execute_result"
    }
   ],
   "source": [
    "#The number of male and female billionaires between the age 81 and 100\n",
    "agj"
   ]
  },
  {
   "cell_type": "code",
   "execution_count": 117,
   "id": "b472e703",
   "metadata": {},
   "outputs": [
    {
     "data": {
      "text/plain": [
       "<matplotlib.legend.Legend at 0x2bd1445a250>"
      ]
     },
     "execution_count": 117,
     "metadata": {},
     "output_type": "execute_result"
    },
    {
     "data": {
      "image/png": "[encoded data removed]",
      "text/plain": [
       "<Figure size 432x288 with 1 Axes>"
      ]
     },
     "metadata": {},
     "output_type": "display_data"
    }
   ],
   "source": [
    "mylabel = ['Male',  'Female']\n",
    "col = ['blue', 'hotpink']\n",
    "ag['gender'].value_counts().plot(kind= 'pie',autopct = '%.2f%%', colors = col , labels = mylabel, title='Percentage of male to female Billionaires aged 81-100')\n",
    "plt.legend()"
   ]
  },
  {
   "cell_type": "markdown",
   "id": "cd691f58",
   "metadata": {},
   "source": [
    "After analyzing the above, it can be seen that;\n",
    "1.Those between the age 50-60 have the highest number of billionaires and the highest number of selfmade billionaires.\n",
    "further research must be made to see what's peculiar about that decade\n",
    "\n",
    "2.Despite all the increase in attention to the girl child and special priviledges being made available to them in many cases\n",
    "the percenatge of male to female billionaires has remained fairly constant across all the years"
   ]
  },
  {
   "cell_type": "code",
   "execution_count": null,
   "id": "800208c7",
   "metadata": {},
   "outputs": [],
   "source": []
  },
  {
   "cell_type": "code",
   "execution_count": null,
   "id": "b1295abc",
   "metadata": {},
   "outputs": [],
   "source": []
  }
 ],
 "metadata": {
  "kernelspec": {
   "display_name": "Python 3 (ipykernel)",
   "language": "python",
   "name": "python3"
  },
  "language_info": {
   "codemirror_mode": {
    "name": "ipython",
    "version": 3
   },
   "file_extension": ".py",
   "mimetype": "text/x-python",
   "name": "python",
   "nbconvert_exporter": "python",
   "pygments_lexer": "ipython3",
   "version": "3.9.12"
  }
 },
 "nbformat": 4,
 "nbformat_minor": 5
}
